{
 "cells": [
  {
   "cell_type": "code",
   "execution_count": 1,
   "metadata": {},
   "outputs": [
    {
     "name": "stdin",
     "output_type": "stream",
     "text": [
      "CLEARMASH_CLIENT_TOKEN: ································\n"
     ]
    }
   ],
   "source": [
    "import getpass\n",
    "\n",
    "CLEARMASH_CLIENT_TOKEN=getpass.getpass('CLEARMASH_CLIENT_TOKEN:')"
   ]
  },
  {
   "cell_type": "code",
   "execution_count": 5,
   "metadata": {},
   "outputs": [],
   "source": [
    "REQUEST_HEADERS = {\n",
    "    \"ClientToken\": CLEARMASH_CLIENT_TOKEN,\n",
    "    \"PersonToken\": \"no_token\",\n",
    "    \"SystemToken\": \"no_token\",\n",
    "    \"Content-Type\": \"application/json\"\n",
    "}"
   ]
  },
  {
   "cell_type": "code",
   "execution_count": 11,
   "metadata": {},
   "outputs": [
    {
     "name": "stdin",
     "output_type": "stream",
     "text": [
      "query:  ethiopian\n",
      "numOfResults:  5\n"
     ]
    },
    {
     "data": {
      "text/html": [
       "{\"ErrorInfo\":null,\"Response\":{\"Entities\":[8429620,14041532,238025,260098,249189],\"EntitiesCurrentPageIsLastRelevantPage\":false,\"EntityTypes\":[],\"ErrorMessage\":null,\"FacetFieldResults\":[],\"QueryRelatedTagIds\":[],\"Tags\":[],\"TotalEntities\":1392,\"TotalTags\":0},\"Status\":0}"
      ],
      "text/plain": [
       "<IPython.core.display.HTML object>"
      ]
     },
     "metadata": {},
     "output_type": "display_data"
    }
   ],
   "source": [
    "import requests\n",
    "from IPython.core.display import display, HTML\n",
    "\n",
    "res = requests.get(\n",
    "    'https://bh.clearmash.com/API/V5/Services/Search.svc//Search?Query={query}&NumberOfResult={numOfResults}'.format(\n",
    "        query=input(\"query: \"),\n",
    "        numOfResults=input(\"numOfResults: \")\n",
    "    ),\n",
    "    headers=REQUEST_HEADERS\n",
    ")\n",
    "\n",
    "display(HTML(res.text))"
   ]
  },
  {
   "cell_type": "code",
   "execution_count": 22,
   "metadata": {},
   "outputs": [],
   "source": [
    "res = requests.get('https://bh.clearmash.com/API/V5/Services/Search.svc/Search/Saved', headers=REQUEST_HEADERS)\n",
    "ethiopian_family_names_saved_search = [s for s in res.json()['Response'] if s['Name'] == 'Ethiopian family names for jewish spotlight'][0]"
   ]
  },
  {
   "cell_type": "code",
   "execution_count": 34,
   "metadata": {},
   "outputs": [
    {
     "data": {
      "text/html": [
       "{\"ErrorInfo\":\"unknown error\",\"Response\":null,\"Status\":1}"
      ],
      "text/plain": [
       "<IPython.core.display.HTML object>"
      ]
     },
     "metadata": {},
     "output_type": "display_data"
    }
   ],
   "source": [
    "res = requests.post(\n",
    "    'https://bh.clearmash.com/API/V5/Services/Search.svc/Search/Saved/Execute', \n",
    "    json={\n",
    "        'SearchId': ethiopian_family_names_saved_search['Id'],\n",
    "        'PageNumber': 1,\n",
    "        'PageSize': 10,\n",
    "        'CommunityId': ethiopian_family_names_saved_search['CommunityId']\n",
    "    },\n",
    "    headers=REQUEST_HEADERS\n",
    ")\n",
    "\n",
    "display(HTML(res.text))"
   ]
  }
 ],
 "metadata": {
  "kernelspec": {
   "display_name": "Python 3",
   "language": "python",
   "name": "python3"
  },
  "language_info": {
   "codemirror_mode": {
    "name": "ipython",
    "version": 3
   },
   "file_extension": ".py",
   "mimetype": "text/x-python",
   "name": "python",
   "nbconvert_exporter": "python",
   "pygments_lexer": "ipython3",
   "version": "3.7.2"
  }
 },
 "nbformat": 4,
 "nbformat_minor": 2
}
