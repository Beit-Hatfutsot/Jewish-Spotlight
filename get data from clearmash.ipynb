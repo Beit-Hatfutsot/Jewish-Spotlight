{
 "cells": [
  {
   "cell_type": "code",
   "execution_count": 41,
   "metadata": {},
   "outputs": [
    {
     "name": "stdin",
     "output_type": "stream",
     "text": [
      "CLEARMASH_CLIENT_TOKEN: ································\n"
     ]
    }
   ],
   "source": [
    "import getpass\n",
    "\n",
    "CLEARMASH_CLIENT_TOKEN=getpass.getpass('CLEARMASH_CLIENT_TOKEN:')"
   ]
  },
  {
   "cell_type": "code",
   "execution_count": 42,
   "metadata": {},
   "outputs": [
    {
     "name": "stdin",
     "output_type": "stream",
     "text": [
      "query:  banana\n",
      "numOfResults:  5\n"
     ]
    },
    {
     "data": {
      "text/html": [
       "ï»¿<?xml version=\"1.0\" encoding=\"utf-8\"?>\r\n",
       "<!DOCTYPE html PUBLIC \"-//W3C//DTD XHTML 1.0 Transitional//EN\" \"http://www.w3.org/TR/xhtml1/DTD/xhtml1-transitional.dtd\">\r\n",
       "<html xmlns=\"http://www.w3.org/1999/xhtml\">\r\n",
       "  <head>\r\n",
       "    <title>Request Error</title>\r\n",
       "    <style>BODY { color: #000000; background-color: white; font-family: Verdana; margin-left: 0px; margin-top: 0px; } #content { margin-left: 30px; font-size: .70em; padding-bottom: 2em; } A:link { color: #336699; font-weight: bold; text-decoration: underline; } A:visited { color: #6699cc; font-weight: bold; text-decoration: underline; } A:active { color: #336699; font-weight: bold; text-decoration: underline; } .heading1 { background-color: #003366; border-bottom: #336699 6px solid; color: #ffffff; font-family: Tahoma; font-size: 26px; font-weight: normal;margin: 0em 0em 10px -20px; padding-bottom: 8px; padding-left: 30px;padding-top: 16px;} pre { font-size:small; background-color: #e5e5cc; padding: 5px; font-family: Courier New; margin-top: 0px; border: 1px #f0f0e0 solid; white-space: pre-wrap; white-space: -pre-wrap; word-wrap: break-word; } table { border-collapse: collapse; border-spacing: 0px; font-family: Verdana;} table th { border-right: 2px white solid; border-bottom: 2px white solid; font-weight: bold; background-color: #cecf9c;} table td { border-right: 2px white solid; border-bottom: 2px white solid; background-color: #e5e5cc;}</style>\r\n",
       "  </head>\r\n",
       "  <body>\r\n",
       "    <div id=\"content\">\r\n",
       "      <p class=\"heading1\">Request Error</p>\r\n",
       "      <p>The server encountered an error processing the request. The exception message is 'Object reference not set to an instance of an object.'. See server logs for more details. The exception stack trace is: </p>\r\n",
       "      <p>   at ClearMash.ServerAPI.Common.Security.RequestHeaders.ImpersonationHeaders.Create(String personToken, String systemToken)\r\n",
       "   at ClearMash.ServerAPI.Common.Security.RequestHeaders.Create(Type serviceType, String operationName, String clientToken, String personToken, String systemToken)\r\n",
       "   at ClearMash.ServerAPI.Common.Security.ClientValidationMessageInspectorREST.GetRequestHeaders(OperationContext operationContext, Message request)\r\n",
       "   at ClearMash.ServerAPI.Common.Security.ClientValidationMessageInspector.AfterReceiveRequest(Message&amp; request, IClientChannel channel, InstanceContext instanceContext)\r\n",
       "   at System.ServiceModel.Dispatcher.ImmutableDispatchRuntime.AfterReceiveRequestCore(MessageRpc&amp; rpc)\r\n",
       "   at System.ServiceModel.Dispatcher.ImmutableDispatchRuntime.ProcessMessage2(MessageRpc&amp; rpc)\r\n",
       "   at System.ServiceModel.Dispatcher.ImmutableDispatchRuntime.ProcessMessage11(MessageRpc&amp; rpc)\r\n",
       "   at System.ServiceModel.Dispatcher.MessageRpc.Process(Boolean isOperationContextSet)</p>\r\n",
       "    </div>\r\n",
       "  </body>\r\n",
       "</html>"
      ],
      "text/plain": [
       "<IPython.core.display.HTML object>"
      ]
     },
     "metadata": {},
     "output_type": "execute_result"
    }
   ],
   "source": [
    "from IPython.core.display import display, HTML\n",
    "\n",
    "res = requests.get(\n",
    "    'https://bh.clearmash.com/API/V5/Services/Search.svc//Search?Query={query}&NumberOfResult={numOfResults}'.format(\n",
    "        query=input(\"query: \"),\n",
    "        numOfResults=input(\"numOfResults: \")\n",
    "    ),\n",
    "    headers={\n",
    "        \"ClientToken\": CLEARMASH_CLIENT_TOKEN,\n",
    "        \"Content-Type\": \"application/json\"\n",
    "    }\n",
    ")\n",
    "\n",
    "display(HTML(res.text))"
   ]
  }
 ],
 "metadata": {
  "kernelspec": {
   "display_name": "Python 3",
   "language": "python",
   "name": "python3"
  },
  "language_info": {
   "codemirror_mode": {
    "name": "ipython",
    "version": 3
   },
   "file_extension": ".py",
   "mimetype": "text/x-python",
   "name": "python",
   "nbconvert_exporter": "python",
   "pygments_lexer": "ipython3",
   "version": "3.7.2"
  }
 },
 "nbformat": 4,
 "nbformat_minor": 2
}
