{
 "cells": [
  {
   "cell_type": "code",
   "execution_count": 2,
   "metadata": {},
   "outputs": [],
   "source": [
    "# a list of urls (names are ignored)\n",
    "# all urls must be in the same language (en/he)\n",
    "wp_urls_lang = 'en'\n",
    "wp_urls_text = '''\n",
    "Eldad Hadani\n",
    "\n",
    "https://www.bh.org.il/eldad-hadani/\n",
    "\n",
    "Father Mahari\n",
    "\n",
    "https://www.bh.org.il/father-mahari/\n",
    "\n",
    "Joseph Halévy\n",
    "\n",
    "https://www.bh.org.il/joseph-halevy/\n",
    "\n",
    "Zimne Barhana\n",
    "\n",
    "https://www.bh.org.il/46299-2/\n",
    "'''"
   ]
  },
  {
   "cell_type": "code",
   "execution_count": 3,
   "metadata": {},
   "outputs": [
    {
     "data": {
      "text/plain": [
       "['https://www.bh.org.il/eldad-hadani/',\n",
       " 'https://www.bh.org.il/father-mahari/',\n",
       " 'https://www.bh.org.il/joseph-halevy/',\n",
       " 'https://www.bh.org.il/46299-2/']"
      ]
     },
     "execution_count": 3,
     "metadata": {},
     "output_type": "execute_result"
    }
   ],
   "source": [
    "wp_urls = [line.strip() for line in wp_urls_text.split(\"\\n\") if line.strip().startswith('http')]\n",
    "wp_urls"
   ]
  },
  {
   "cell_type": "code",
   "execution_count": 6,
   "metadata": {},
   "outputs": [
    {
     "data": {
      "text/html": [
       "<h3>res_1</h3>"
      ],
      "text/plain": [
       "<IPython.core.display.HTML object>"
      ]
     },
     "metadata": {},
     "output_type": "display_data"
    },
    {
     "data": {
      "text/html": [
       "<table>\n",
       "<thead>\n",
       "<tr><th style=\"text-align: right;\">  #</th><th>url\n",
       "(string)                                     </th><th>title\n",
       "(string)              </th><th>description\n",
       "(string)                                                                                                         </th><th>image_url\n",
       "(string)                                                                                             </th></tr>\n",
       "</thead>\n",
       "<tbody>\n",
       "<tr><td style=\"text-align: right;\">  1</td><td>https://www.bh.org.il/eldad-hadani/ </td><td>Eldad Hadani </td><td>Hadani was a Jewish merchant and traveler in the 9th century. There is question as to his being an h ...</td><td>None                                                                                        </td></tr>\n",
       "<tr><td style=\"text-align: right;\">  2</td><td>https://www.bh.org.il/father-mahari/</td><td>Father Mahari</td><td>Mahari Sothal , or Mahari Sothal (after his father), better known as Father Mahari , is the name of  ...</td><td>None                                                                                        </td></tr>\n",
       "<tr><td style=\"text-align: right;\">  3</td><td>https://www.bh.org.il/joseph-halevy/</td><td>Joseph Halévy</td><td>Professor Joseph Halévy; 1827 – 1917 A Frenchman of Ottoman descent, he served as an educator and te ...</td><td>https://www.bh.org.il/wp-content/uploads/Joseph_Halevy-1.jpg                                </td></tr>\n",
       "<tr><td style=\"text-align: right;\">  4</td><td>https://www.bh.org.il/46299-2/      </td><td>Zimne Barhana</td><td>He was one of the pioneers of the struggle to bring the “Beta Israel” community to the State of Isra ...</td><td>https://www.bh.org.il/wp-content/uploads/זימנה_ברהני_באתיופיה_1992_אוסף_הרב_מנחם_ולדמן-1.jpg</td></tr>\n",
       "</tbody>\n",
       "</table>"
      ],
      "text/plain": [
       "<IPython.core.display.HTML object>"
      ]
     },
     "metadata": {},
     "output_type": "display_data"
    },
    {
     "data": {
      "text/plain": [
       "(<datapackage.package.Package at 0x7f9dcb584e50>,\n",
       " {'count_of_rows': 4,\n",
       "  'bytes': 4333,\n",
       "  'hash': '4a2056aff508a52276c0e6c4ef708301',\n",
       "  'dataset_name': None})"
      ]
     },
     "execution_count": 6,
     "metadata": {},
     "output_type": "execute_result"
    }
   ],
   "source": [
    "import requests\n",
    "from pyquery import PyQuery as pq\n",
    "from dataflows import Flow, printer, dump_to_path\n",
    "\n",
    "def get_items():\n",
    "    for wp_url in wp_urls:\n",
    "        res = requests.get(wp_url)\n",
    "        doc = pq(res.content)\n",
    "        assert doc.attr('lang') == 'en-US' if wp_urls_lang == 'en' else 'he-IL', 'invalid lang: {}'.format(doc.attr('lang'))\n",
    "        title = doc('h2.title').text()\n",
    "        if not title:\n",
    "            title = doc('.side-menu-wrapper .parent').text()\n",
    "        assert title and len(title) > 5, 'invalid title: \"{}\"'.format(title)\n",
    "        description = '.'.join(doc('div.content-column p').text().split('.')[:4])\n",
    "        assert len(description) > 30, 'invalid description: {}'.format(description)\n",
    "        imgs = doc('div.content-column img')\n",
    "        image_url = ('https:'+pq(imgs[0]).attr('src')) if imgs else ''\n",
    "        yield {'url': wp_url, 'title': title, 'description': description, 'image_url': image_url}\n",
    "\n",
    "Flow(\n",
    "    get_items(),\n",
    "    dump_to_path('.data/ethiopia-personalities'),\n",
    "    printer(tablefmt='html', num_rows=9999)\n",
    ").process()"
   ]
  },
  {
   "cell_type": "code",
   "execution_count": 8,
   "metadata": {},
   "outputs": [
    {
     "name": "stdout",
     "output_type": "stream",
     "text": [
      "    {\n",
      "      \"UnitType\": 8,\n",
      "      \"UnitTypeDesc\": \"Personality\",\n",
      "      \"Header\": {\n",
      "        \"He\": \"\",\n",
      "        \"En\": \"Eldad Hadani\"\n",
      "      },\n",
      "      \"UnitText1\": {\n",
      "        \"He\": \"\",\n",
      "        \"En\": \"Hadani was a Jewish merchant and traveler in the 9th century. There is question as to his being an historical personality, that he wrote in Hebrew (with many Arabic influences) his book on the Laws of Kosher animal slaughter, and that he wrote an epistle which is titled in his name. His place of origin is unknown, but in his writings he wrote that he is a citizen of an “Independent Jewish State” in East Africa. He probably meant modern-day Ethiopia\"\n",
      "      },\n",
      "      \"Slug\": {\n",
      "        \"He\": \"\",\n",
      "        \"En\": \"\"\n",
      "      },\n",
      "      \"video_url\": null,\n",
      "      \"main_image_url\": \"\",\n",
      "      \"preview_image_url\": \"\",\n",
      "      \"image_urls\": [],\n",
      "      \"item_url_he\": \"\",\n",
      "      \"item_url_en\": \"https://www.bh.org.il/eldad-hadani/\"\n",
      "    }, \n",
      "    {\n",
      "      \"UnitType\": 8,\n",
      "      \"UnitTypeDesc\": \"Personality\",\n",
      "      \"Header\": {\n",
      "        \"He\": \"\",\n",
      "        \"En\": \"Father Mahari\"\n",
      "      },\n",
      "      \"UnitText1\": {\n",
      "        \"He\": \"\",\n",
      "        \"En\": \"Mahari Sothal , or Mahari Sothal (after his father), better known as Father Mahari , is the name of Malkusa , a Jewish monk , who lived and worked in Ethiopia in the nineteenth century and served as the supreme spiritual leader of the Beta Israel community in the Kola Vagra region. Father Mahari was born in Kwara , Amhara district, where he was trained to serve as a Cohen (Kess) and Monk (Melkusa). After his training, he wandered between the various Beta Israel settlements, scattered between Gurgaore and Amba Guelit , and acted as a monk; He taught Torah and Halachot, preached prayers for members of the community and sought healing and grain, made sacrifices, trained disciples, and litigated with Christian missionaries. During his wanderings, Mahari arrived from the Mountains to Dambia where he played a pivotal role, devoting most of his time to the return of assimilators to the lap of Judaism and to the war on Christian missionaries who increased their pressure on Jews to convert their religion\"\n",
      "      },\n",
      "      \"Slug\": {\n",
      "        \"He\": \"\",\n",
      "        \"En\": \"\"\n",
      "      },\n",
      "      \"video_url\": null,\n",
      "      \"main_image_url\": \"\",\n",
      "      \"preview_image_url\": \"\",\n",
      "      \"image_urls\": [],\n",
      "      \"item_url_he\": \"\",\n",
      "      \"item_url_en\": \"https://www.bh.org.il/father-mahari/\"\n",
      "    }, \n",
      "    {\n",
      "      \"UnitType\": 8,\n",
      "      \"UnitTypeDesc\": \"Personality\",\n",
      "      \"Header\": {\n",
      "        \"He\": \"\",\n",
      "        \"En\": \"Joseph Halévy\"\n",
      "      },\n",
      "      \"UnitText1\": {\n",
      "        \"He\": \"\",\n",
      "        \"En\": \"Professor Joseph Halévy; 1827 – 1917 A Frenchman of Ottoman descent, he served as an educator and teacher of Hebrew, a poet, Bible researcher, linguist, orientalist, archaeologist and as a renowned traveler. He was one of the first to recognize the authenticity of the Jews of Ethiopia, and was among those who preceded Eliezer Ben-Yehuda in reviving the Hebrew language. In regard to the revitalization of the Hebrew language for both verbal and literary needs, Halévy preceded Eliezer Ben-Yehuda in teaching Hebrew in the Hebrew language. His main contribution to reviving the language is most prominent in his articles on the topic of expanding the Hebrew language from within it\"\n",
      "      },\n",
      "      \"Slug\": {\n",
      "        \"He\": \"\",\n",
      "        \"En\": \"\"\n",
      "      },\n",
      "      \"video_url\": null,\n",
      "      \"main_image_url\": \"https://www.bh.org.il/wp-content/uploads/Joseph_Halevy-1.jpg\",\n",
      "      \"preview_image_url\": \"https://www.bh.org.il/wp-content/uploads/Joseph_Halevy-1.jpg\",\n",
      "      \"image_urls\": [\"https://www.bh.org.il/wp-content/uploads/Joseph_Halevy-1.jpg\"],\n",
      "      \"item_url_he\": \"\",\n",
      "      \"item_url_en\": \"https://www.bh.org.il/joseph-halevy/\"\n",
      "    }, \n",
      "    {\n",
      "      \"UnitType\": 8,\n",
      "      \"UnitTypeDesc\": \"Personality\",\n",
      "      \"Header\": {\n",
      "        \"He\": \"\",\n",
      "        \"En\": \"Zimne Barhana\"\n",
      "      },\n",
      "      \"UnitText1\": {\n",
      "        \"He\": \"\",\n",
      "        \"En\": \"He was one of the pioneers of the struggle to bring the “Beta Israel” community to the State of Israel and to open the gates of the country to them. Zimana was a member of Intelligence and Special Offices, which established the organizational infrastructure in the refugee camps in Sudan in order to bring Ethiopian Jews to Israel. Barhana led the public struggle for the Aliyah of Ethiopian Jewry, from its inception. In 1973, the first success was recorded, when Rabbi Ovadia Yosef, the Sephardic Chief Rabbi, ruled that Ethiopian Jews are descended from the tribes of Israel and must be saved\"\n",
      "      },\n",
      "      \"Slug\": {\n",
      "        \"He\": \"\",\n",
      "        \"En\": \"\"\n",
      "      },\n",
      "      \"video_url\": null,\n",
      "      \"main_image_url\": \"https://www.bh.org.il/wp-content/uploads/%D7%96%D7%99%D7%9E%D7%A0%D7%94_%D7%91%D7%A8%D7%94%D7%A0%D7%99_%D7%91%D7%90%D7%AA%D7%99%D7%95%D7%A4%D7%99%D7%94_1992_%D7%90%D7%95%D7%A1%D7%A3_%D7%94%D7%A8%D7%91_%D7%9E%D7%A0%D7%97%D7%9D_%D7%95%D7%9C%D7%93%D7%9E%D7%9F-1.jpg\",\n",
      "      \"preview_image_url\": \"https://www.bh.org.il/wp-content/uploads/%D7%96%D7%99%D7%9E%D7%A0%D7%94_%D7%91%D7%A8%D7%94%D7%A0%D7%99_%D7%91%D7%90%D7%AA%D7%99%D7%95%D7%A4%D7%99%D7%94_1992_%D7%90%D7%95%D7%A1%D7%A3_%D7%94%D7%A8%D7%91_%D7%9E%D7%A0%D7%97%D7%9D_%D7%95%D7%9C%D7%93%D7%9E%D7%9F-1.jpg\",\n",
      "      \"image_urls\": [\"https://www.bh.org.il/wp-content/uploads/%D7%96%D7%99%D7%9E%D7%A0%D7%94_%D7%91%D7%A8%D7%94%D7%A0%D7%99_%D7%91%D7%90%D7%AA%D7%99%D7%95%D7%A4%D7%99%D7%94_1992_%D7%90%D7%95%D7%A1%D7%A3_%D7%94%D7%A8%D7%91_%D7%9E%D7%A0%D7%97%D7%9D_%D7%95%D7%9C%D7%93%D7%9E%D7%9F-1.jpg\"],\n",
      "      \"item_url_he\": \"\",\n",
      "      \"item_url_en\": \"https://www.bh.org.il/46299-2/\"\n",
      "    }, \n"
     ]
    },
    {
     "data": {
      "text/plain": [
       "(<datapackage.package.Package at 0x7f9dcb1c1cd0>, {})"
      ]
     },
     "execution_count": 8,
     "metadata": {},
     "output_type": "execute_result"
    }
   ],
   "source": [
    "import json\n",
    "from urllib.parse import quote\n",
    "from dataflows import Flow, load\n",
    "\n",
    "ITEM_JSON_HE_TEMPLATE = '''    {\n",
    "      \"UnitType\": 8,\n",
    "      \"UnitTypeDesc\": \"Personality\",\n",
    "      \"Header\": {\n",
    "        \"He\": <<title>>,\n",
    "        \"En\": \"\"\n",
    "      },\n",
    "      \"UnitText1\": {\n",
    "        \"He\": <<description>>,\n",
    "        \"En\": \"\"\n",
    "      },\n",
    "      \"Slug\": {\n",
    "        \"He\": \"\",\n",
    "        \"En\": \"\"\n",
    "      },\n",
    "      \"video_url\": null,\n",
    "      \"main_image_url\": <<image_url>>,\n",
    "      \"preview_image_url\": <<image_url>>,\n",
    "      \"image_urls\": [<<image_urls>>],\n",
    "      \"item_url_he\": <<url>>,\n",
    "      \"item_url_en\": \"\"\n",
    "    }, '''\n",
    "\n",
    "ITEM_JSON_EN_TEMPLATE = '''    {\n",
    "      \"UnitType\": 8,\n",
    "      \"UnitTypeDesc\": \"Personality\",\n",
    "      \"Header\": {\n",
    "        \"He\": \"\",\n",
    "        \"En\": <<title>>\n",
    "      },\n",
    "      \"UnitText1\": {\n",
    "        \"He\": \"\",\n",
    "        \"En\": <<description>>\n",
    "      },\n",
    "      \"Slug\": {\n",
    "        \"He\": \"\",\n",
    "        \"En\": \"\"\n",
    "      },\n",
    "      \"video_url\": null,\n",
    "      \"main_image_url\": <<image_url>>,\n",
    "      \"preview_image_url\": <<image_url>>,\n",
    "      \"image_urls\": [<<image_urls>>],\n",
    "      \"item_url_he\": \"\",\n",
    "      \"item_url_en\": <<url>>\n",
    "    }, '''\n",
    "\n",
    "def print_manual_items_json(row):\n",
    "    item_json_template = ITEM_JSON_EN_TEMPLATE if wp_urls_lang == 'en' else ITEM_JSON_HE_TEMPLATE\n",
    "    item_json = item_json_template.replace(\n",
    "        '<<title>>', json.dumps(row['title'], ensure_ascii=False)\n",
    "    ).replace(\n",
    "        '<<description>>', json.dumps(row['description'], ensure_ascii=False)\n",
    "    ).replace(\n",
    "        '<<image_url>>', json.dumps(quote(row['image_url']).replace('https%3A', 'https:')) if row['image_url'] else '\"\"'\n",
    "    ).replace(\n",
    "        '<<image_urls>>', json.dumps(quote(row['image_url']).replace('https%3A', 'https:')) if row['image_url'] else ''\n",
    "    ).replace(\n",
    "        '<<url>>', json.dumps(row['url'])\n",
    "    )\n",
    "    print(item_json)\n",
    "\n",
    "Flow(\n",
    "    load('.data/ethiopia-personalities/datapackage.json'),\n",
    "    print_manual_items_json\n",
    ").process()"
   ]
  }
 ],
 "metadata": {
  "kernelspec": {
   "display_name": "Python 3",
   "language": "python",
   "name": "python3"
  },
  "language_info": {
   "codemirror_mode": {
    "name": "ipython",
    "version": 3
   },
   "file_extension": ".py",
   "mimetype": "text/x-python",
   "name": "python",
   "nbconvert_exporter": "python",
   "pygments_lexer": "ipython3",
   "version": "3.7.4"
  }
 },
 "nbformat": 4,
 "nbformat_minor": 4
}
